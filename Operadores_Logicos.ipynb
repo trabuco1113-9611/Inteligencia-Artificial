{
  "nbformat": 4,
  "nbformat_minor": 0,
  "metadata": {
    "colab": {
      "provenance": [],
      "authorship_tag": "ABX9TyNTP3vmX6y/v5S2UhaT/AlO",
      "include_colab_link": true
    },
    "kernelspec": {
      "name": "python3",
      "display_name": "Python 3"
    },
    "language_info": {
      "name": "python"
    }
  },
  "cells": [
    {
      "cell_type": "markdown",
      "metadata": {
        "id": "view-in-github",
        "colab_type": "text"
      },
      "source": [
        "<a href=\"https://colab.research.google.com/github/trabuco1113-9611/Inteligencia-Artificial/blob/main/Operadores_Logicos.ipynb\" target=\"_parent\"><img src=\"https://colab.research.google.com/assets/colab-badge.svg\" alt=\"Open In Colab\"/></a>"
      ]
    },
    {
      "cell_type": "markdown",
      "source": [
        "# OPERADORES LOGICOS"
      ],
      "metadata": {
        "id": "VJs43ZiURFTP"
      }
    },
    {
      "cell_type": "markdown",
      "source": [
        "## AND"
      ],
      "metadata": {
        "id": "QI6EoAMQRLvl"
      }
    },
    {
      "cell_type": "markdown",
      "source": [
        "Este codigo es lo siguiente:\n",
        "Entradas (X): Las combinaciones de valores de entrada.\n",
        "\n",
        "Salidas (Y): Las salidas esperadas para una función AND (0 a menos que ambas entradas sean 1).\n",
        "\n",
        "Pesos (W): La importancia asignada a cada entrada. Aquí, ambos son 1.\n",
        "\n",
        "Umbral (Umbral): El valor que la suma ponderada de las entradas debe superar para que la neurona se \"active\" (produzca una salida de 1)."
      ],
      "metadata": {
        "id": "bz14mNgNRTqi"
      }
    },
    {
      "cell_type": "code",
      "execution_count": 2,
      "metadata": {
        "id": "wS-an2_9Q-Jj"
      },
      "outputs": [],
      "source": [
        "import numpy as np\n",
        "#Entradas para la neurona\n",
        "X= np.array([\n",
        "    [0,0],\n",
        "    [0,1],\n",
        "    [1,0],\n",
        "    [1,1]\n",
        "])\n",
        "#Salidas\n",
        "Y= np.array([0,0,0,1])\n",
        "#Pesos para entradas\n",
        "W=[1,1]\n",
        "#Umbral para funcion activa\n",
        "umbral = 2"
      ]
    },
    {
      "cell_type": "markdown",
      "source": [
        "La clase McCullochPitts simula una neurona artificial\n",
        "\n",
        "* Inicialización (__init__)\n",
        "Al crear el objeto, almacena los pesos (W = [1, 1]) y el umbral (umbral = 2).\n",
        "\n",
        "* Predicción (predict)\n",
        "Suma Ponderada: Para cada fila de entrada X\n",
        "i\n",
        "​\n",
        " , calcula la suma ponderada (S) usando el producto punto: S=(X\n",
        "1\n",
        "​\n",
        " ⋅W\n",
        "1\n",
        "​\n",
        " )+(X\n",
        "2\n",
        "​\n",
        " ⋅W\n",
        "2\n",
        "​\n",
        " ).\n",
        "\n",
        "Ejemplo con [1, 1]: S=(1⋅1)+(1⋅1)=2.\n",
        "\n",
        "Función de Activación: Compara la suma ponderada (S) con el umbral.\n",
        "\n",
        "Si S≥Umbral (es decir, S≥2), la salida es 1 (La neurona se \"activa\").\n",
        "\n",
        "Si S<Umbral, la salida es 0 (La neurona permanece \"inactiva\").\n",
        "\n",
        "Los únicos pesos y umbral que resultan en una suma ponderada de 2 o más es cuando ambas entradas son 1, replicando perfectamente la lógica AND."
      ],
      "metadata": {
        "id": "xfiix_7FRgmb"
      }
    },
    {
      "cell_type": "code",
      "source": [
        "class McCullochPitts:\n",
        "    def __init__(self,weights,umbral):\n",
        "        self.weights=weights\n",
        "        self.umbral=umbral\n",
        "    def predict(self,X):\n",
        "            predictions=[]\n",
        "            for i in range (X.shape[0]):\n",
        "                weighted_sum=np.dot(self.weights,X[i])\n",
        "                print(f\"Input:{X[i]}, weighted Sum: {weighted_sum}\")\n",
        "                if weighted_sum >= self.umbral:\n",
        "                    predictions.append(1)\n",
        "                else:\n",
        "                    predictions.append(0)\n",
        "            return predictions"
      ],
      "metadata": {
        "id": "xpDueOqFStc6"
      },
      "execution_count": 3,
      "outputs": []
    },
    {
      "cell_type": "markdown",
      "source": [
        "Imprimimoos el resultado de la prediccion"
      ],
      "metadata": {
        "id": "UZr0SbV8S9pY"
      }
    },
    {
      "cell_type": "code",
      "source": [
        "mcp = McCullochPitts(W, umbral)\n",
        "predictions = mcp.predict(X)\n",
        "print(\"Predictions:\",predictions)"
      ],
      "metadata": {
        "colab": {
          "base_uri": "https://localhost:8080/"
        },
        "id": "yqf7BW6TTKw7",
        "outputId": "5efd011e-ce04-4e83-fc6b-2596e3746c09"
      },
      "execution_count": 4,
      "outputs": [
        {
          "output_type": "stream",
          "name": "stdout",
          "text": [
            "Input:[0 0], weighted Sum: 0\n",
            "Input:[0 1], weighted Sum: 1\n",
            "Input:[1 0], weighted Sum: 1\n",
            "Input:[1 1], weighted Sum: 2\n",
            "Predictions: [0, 0, 0, 1]\n"
          ]
        }
      ]
    },
    {
      "cell_type": "markdown",
      "source": [
        "# Operador OR"
      ],
      "metadata": {
        "id": "4N1PEi-lTR05"
      }
    },
    {
      "cell_type": "code",
      "source": [
        "import numpy as np\n",
        "#Entradas para la neurona\n",
        "X= np.array([\n",
        "    [0,0],\n",
        "    [0,1],\n",
        "    [1,0],\n",
        "    [1,1]\n",
        "])\n",
        "#Salidas\n",
        "Y= np.array([0,0,0,1])\n",
        "#Pesos para entradas\n",
        "W=[18,10]\n",
        "#Umbral para funcion activa\n",
        "umbral =7\n"
      ],
      "metadata": {
        "id": "goqfivG_TSRu"
      },
      "execution_count": 5,
      "outputs": []
    },
    {
      "cell_type": "code",
      "source": [
        "class McCullochPitts:\n",
        "    def __init__(self,weights,umbral):\n",
        "        self.weights=weights\n",
        "        self.umbral=umbral\n",
        "    def predict(self,X):\n",
        "            predictions=[]\n",
        "            for i in range (X.shape[0]):\n",
        "                weighted_sum=np.dot(self.weights,X[i])\n",
        "                print(f\"Input:{X[i]}, weighted Sum: {weighted_sum}\")\n",
        "                if weighted_sum >= self.umbral:\n",
        "                    predictions.append(1)\n",
        "                else:\n",
        "                    predictions.append(0)\n",
        "            return predictions"
      ],
      "metadata": {
        "id": "Tw0nCRuwTdg4"
      },
      "execution_count": 6,
      "outputs": []
    },
    {
      "cell_type": "code",
      "source": [
        "mcp = McCullochPitts(W, umbral)\n",
        "predictions = mcp.predict(X)\n",
        "print(\"Predictions:\",predictions)"
      ],
      "metadata": {
        "colab": {
          "base_uri": "https://localhost:8080/"
        },
        "id": "xFsz3pGDTgGL",
        "outputId": "4e6c067b-a6df-4f47-bcf2-19a1776baa70"
      },
      "execution_count": 7,
      "outputs": [
        {
          "output_type": "stream",
          "name": "stdout",
          "text": [
            "Input:[0 0], weighted Sum: 0\n",
            "Input:[0 1], weighted Sum: 10\n",
            "Input:[1 0], weighted Sum: 18\n",
            "Input:[1 1], weighted Sum: 28\n",
            "Predictions: [0, 1, 1, 1]\n"
          ]
        }
      ]
    },
    {
      "cell_type": "markdown",
      "source": [
        "# Operador NOT"
      ],
      "metadata": {
        "id": "X06dfkJfTjrX"
      }
    },
    {
      "cell_type": "markdown",
      "source": [
        " (Z): Se calcula como el producto punto de las entradas (X) y los pesos (W), más el umbral de activación.\n",
        "\n",
        "Z=(X⋅W)+umbral\n",
        "Activación (\n",
        "Y\n",
        "^\n",
        " ): Se aplica la función de activación al resultado Z. Para la función escalón, si Z≥0, la salida es 1; si Z<0"
      ],
      "metadata": {
        "id": "-gdCJumiTkE1"
      }
    },
    {
      "cell_type": "code",
      "source": [
        "import numpy as np\n",
        "#Entradas para la neurona\n",
        "X= np.array([\n",
        "    [1],\n",
        "    [0]\n",
        "\n",
        "\n",
        "])\n",
        "#Salidas\n",
        "Y= np.array([0,1])\n",
        "#Pesos para entradas\n",
        "W=[-1]\n",
        "#Umbral para funcion activa\n",
        "umbral = 0"
      ],
      "metadata": {
        "id": "6RNgQxEmTtgZ"
      },
      "execution_count": 8,
      "outputs": []
    },
    {
      "cell_type": "code",
      "source": [
        "class McCullochPitts:\n",
        "    def __init__(self,weights,umbral):\n",
        "        self.weights=weights\n",
        "        self.umbral=umbral\n",
        "    def predict(self,X):\n",
        "            predictions=[]\n",
        "            for i in range (X.shape[0]):\n",
        "                weighted_sum=np.dot(self.weights,X[i])\n",
        "                print(f\"Input:{X[i]}, weighted Sum: {weighted_sum}\")\n",
        "                if weighted_sum >= self.umbral:\n",
        "                    predictions.append(1)\n",
        "                else:\n",
        "                    predictions.append(0)\n",
        "            return predictions"
      ],
      "metadata": {
        "id": "b0fSydHoTwMz"
      },
      "execution_count": 9,
      "outputs": []
    },
    {
      "cell_type": "code",
      "source": [
        "mcp = McCullochPitts(W, umbral)\n",
        "predictions = mcp.predict(X)\n",
        "print(\"Predictions:\",predictions)"
      ],
      "metadata": {
        "colab": {
          "base_uri": "https://localhost:8080/"
        },
        "id": "uJf6zHpPTzch",
        "outputId": "f00fa829-ddf3-43e7-e71d-18d00842a4b6"
      },
      "execution_count": 10,
      "outputs": [
        {
          "output_type": "stream",
          "name": "stdout",
          "text": [
            "Input:[1], weighted Sum: -1\n",
            "Input:[0], weighted Sum: 0\n",
            "Predictions: [0, 1]\n"
          ]
        }
      ]
    }
  ]
}